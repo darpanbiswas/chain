{
 "cells": [
  {
   "cell_type": "code",
   "execution_count": 1,
   "metadata": {
    "collapsed": true
   },
   "outputs": [],
   "source": [
    "import svgwrite\n",
    "import cairosvg\n",
    "import pandas as pd\n",
    "import networkx as nx\n",
    "import matplotlib.pyplot as plt\n",
    "import networkx as nx\n",
    "import pylab as plt\n",
    "import os\n",
    "from networkx.drawing.nx_agraph import graphviz_layout\n",
    "\n",
    "_p = print\n",
    "\n",
    "def show(fig, filename=None, folder='images'):\n",
    "   plt.show()\n",
    "   if(filename):\n",
    "       fig.savefig(os.path.join(folder, filename))\n",
    "   plt.clf() "
   ]
  },
  {
   "cell_type": "markdown",
   "metadata": {},
   "source": [
    "# Topics of Block Chain"
   ]
  },
  {
   "cell_type": "markdown",
   "metadata": {},
   "source": [
    "# Plot 1"
   ]
  },
  {
   "cell_type": "code",
   "execution_count": null,
   "metadata": {
    "collapsed": true
   },
   "outputs": [],
   "source": [
    "plot_1_nodes_df=pd.read_csv('plot_1_nodes.csv')\n",
    "plot_1_nodes_df.loc[:,'group']=None\n",
    "plot_1_nodes_df.loc[0,'group']=1\n",
    "plot_1_nodes_df.loc[1:5,'group']=2\n",
    "plot_1_nodes_df.loc[5:,'group']=3"
   ]
  },
  {
   "cell_type": "code",
   "execution_count": null,
   "metadata": {
    "collapsed": true
   },
   "outputs": [],
   "source": [
    "for index,row in plot_1_nodes_df.iterrows():\n",
    "    print('\\t{{\"id\": \"{0}\", \"group\": {1}}},'.format(row.x, row.group))"
   ]
  },
  {
   "cell_type": "code",
   "execution_count": null,
   "metadata": {
    "collapsed": true
   },
   "outputs": [],
   "source": [
    "plot_1_edges_df=pd.read_csv('plot_1_edges.csv')"
   ]
  },
  {
   "cell_type": "code",
   "execution_count": null,
   "metadata": {
    "collapsed": true
   },
   "outputs": [],
   "source": [
    "for index,row in plot_1_edges_df.iterrows():\n",
    "    print('\\t{{\"source\": \"{0}\", \"target\": \"{1}\", \"value\": 1}},'.format(row['from'], row['to']))"
   ]
  },
  {
   "cell_type": "code",
   "execution_count": null,
   "metadata": {
    "collapsed": true
   },
   "outputs": [],
   "source": [
    "num_of_people=1000\n",
    "num_of_institutions=4\n",
    "plot_2_nodes_df=pd.DataFrame([], index=range(num_of_people+num_of_institutions), columns=['size'])\n",
    "plot_2_nodes_df.loc[:num_of_people, 'size']=1\n",
    "plot_2_nodes_df.loc[num_of_people:, 'size']=2"
   ]
  },
  {
   "cell_type": "code",
   "execution_count": null,
   "metadata": {
    "collapsed": true
   },
   "outputs": [],
   "source": [
    "with open('plot_2.json', 'w') as file:\n",
    "    file.write('{\\n')\n",
    "    file.write('\"nodes\": [\\n')\n",
    "    for index,row in plot_2_nodes_df.iterrows():\n",
    "        file.write('\\t{{\"id\": \"{0}\", \"size\": {1}}},\\n'.format(index, row.size))\n",
    "    file.write('],\\n')\n",
    "    file.write('\"links\": [\\n')\n",
    "    for people_node in range(num_of_people):\n",
    "        for institution_node in range(num_of_institutions):\n",
    "            file.write('\\t{{\"source\": \"{0}\", \"target\": \"{1}\", \"value\": 1}},\\n'.format(people_node, institution_node))\n",
    "    file.write(']\\n')\n",
    "    file.write('}\\n')\n",
    "file.close()"
   ]
  },
  {
   "cell_type": "code",
   "execution_count": 2,
   "metadata": {},
   "outputs": [
    {
     "data": {
      "image/png": "[encoded data removed]",
      "text/plain": [
       "<matplotlib.figure.Figure at 0x117509358>"
      ]
     },
     "metadata": {},
     "output_type": "display_data"
    }
   ],
   "source": [
    "fig,ax=plt.subplots()\n",
    "\n",
    "G = nx.DiGraph()\n",
    "G.add_node(0)\n",
    "for node in range(1,5):\n",
    "    G.add_edge(node, 0)\n",
    "# pos=nx.spring_layout(G) \n",
    "pos=graphviz_layout(G, prog='dot')\n",
    "nx.draw_networkx_nodes(\n",
    "    G, \n",
    "    nodelist=list(range(1,5)), \n",
    "    pos=pos, \n",
    "    node_shape='s',\n",
    "    node_color='g',\n",
    ")\n",
    "nx.draw_networkx_nodes(\n",
    "    G, \n",
    "    nodelist=[0], \n",
    "    pos=pos,\n",
    "    node_shape='s',\n",
    "    node_color='b',\n",
    ")\n",
    "nx.draw_networkx_edges(G, pos=pos)\n",
    "ax.set_axis_off()\n",
    "show(fig, 'plot_credit_score_encoding_01')"
   ]
  },
  {
   "cell_type": "code",
   "execution_count": 15,
   "metadata": {},
   "outputs": [
    {
     "data": {
      "text/plain": [
       "<matplotlib.figure.Figure at 0x11a9ee908>"
      ]
     },
     "metadata": {},
     "output_type": "display_data"
    },
    {
     "data": {
      "image/png": "[encoded data removed]",
      "text/plain": [
       "<matplotlib.figure.Figure at 0x11a811668>"
      ]
     },
     "metadata": {},
     "output_type": "display_data"
    }
   ],
   "source": [
    "fig,ax=plt.subplots()\n",
    "\n",
    "G = nx.DiGraph()\n",
    "G.add_node(1)\n",
    "G.add_node(0)\n",
    "G.add_edge(1,0)\n",
    "for node in range(2,6):\n",
    "    G.add_edge(node, 1)\n",
    "# pos=nx.spring_layout(G) \n",
    "pos=graphviz_layout(G, prog='dot')\n",
    "nx.draw_networkx_nodes(\n",
    "    G, \n",
    "    nodelist=list(range(2,6)), \n",
    "    pos=pos, \n",
    "    node_shape='s',\n",
    "    node_color='g',\n",
    ")\n",
    "nx.draw_networkx_nodes(\n",
    "    G, \n",
    "    nodelist=[1], \n",
    "    pos=pos,\n",
    "    node_shape='s',\n",
    "    node_color='r',\n",
    ")\n",
    "nx.draw_networkx_nodes(\n",
    "    G, \n",
    "    nodelist=[0], \n",
    "    pos=pos,\n",
    "    node_shape='s',\n",
    "    node_color='b',\n",
    ")\n",
    "nx.draw_networkx_edges(G, pos=pos)\n",
    "ax.set_axis_off()\n",
    "show(fig, 'plot_credit_score_encoding_02')"
   ]
  },
  {
   "cell_type": "code",
   "execution_count": 14,
   "metadata": {},
   "outputs": [
    {
     "data": {
      "text/plain": [
       "<matplotlib.figure.Figure at 0x11a9ee780>"
      ]
     },
     "metadata": {},
     "output_type": "display_data"
    },
    {
     "data": {
      "image/png": "[encoded data removed]",
      "text/plain": [
       "<matplotlib.figure.Figure at 0x11b309278>"
      ]
     },
     "metadata": {},
     "output_type": "display_data"
    }
   ],
   "source": [
    "fig,ax=plt.subplots()\n",
    "\n",
    "G = nx.DiGraph()\n",
    "G.add_node(1)\n",
    "G.add_node(0)\n",
    "G.add_edge(1,0)\n",
    "for node in range(2,7):\n",
    "    G.add_edge(node, 1)\n",
    "# pos=nx.spring_layout(G) \n",
    "pos=graphviz_layout(G, prog='dot')\n",
    "nx.draw_networkx_nodes(\n",
    "    G, \n",
    "    nodelist=list(range(3,6)), \n",
    "    pos=pos, \n",
    "    node_shape='s',\n",
    "    node_color='g',\n",
    ")\n",
    "nx.draw_networkx_nodes(\n",
    "    G, \n",
    "    nodelist=[2], \n",
    "    pos=pos, \n",
    "    node_shape='s',\n",
    "    node_color='grey',\n",
    ")\n",
    "nx.draw_networkx_nodes(\n",
    "    G, \n",
    "    nodelist=[6], \n",
    "    pos=pos, \n",
    "    node_shape='s',\n",
    "    node_color='c',\n",
    ")\n",
    "nx.draw_networkx_nodes(\n",
    "    G, \n",
    "    nodelist=[1], \n",
    "    pos=pos,\n",
    "    node_shape='s',\n",
    "    node_color='r',\n",
    ")\n",
    "nx.draw_networkx_nodes(\n",
    "    G, \n",
    "    nodelist=[0], \n",
    "    pos=pos,\n",
    "    node_shape='s',\n",
    "    node_color='b',\n",
    ")\n",
    "nx.draw_networkx_edges(G, pos=pos)\n",
    "ax.set_axis_off()\n",
    "show(fig, 'plot_credit_score_encoding_03')"
   ]
  },
  {
   "cell_type": "code",
   "execution_count": 101,
   "metadata": {},
   "outputs": [
    {
     "data": {
      "text/plain": [
       "<matplotlib.figure.Figure at 0x10d380e48>"
      ]
     },
     "metadata": {},
     "output_type": "display_data"
    },
    {
     "data": {
      "image/png": "[encoded data removed]",
      "text/plain": [
       "<matplotlib.figure.Figure at 0x11b6ad400>"
      ]
     },
     "metadata": {},
     "output_type": "display_data"
    }
   ],
   "source": [
    "fig,ax=plt.subplots(figsize=(20,10))\n",
    "\n",
    "G = nx.DiGraph()\n",
    "for node in range(0,4):\n",
    "    G.add_edge(node+1, node)\n",
    "# pos=nx.random_layout(G) \n",
    "# neato, dot, twopi, circo, fdp, nop, wc, acyclic, gvpr, gvcolor, ccomps, sccmap, tred, sfdp.\n",
    "pos=graphviz_layout(G, prog='circo')\n",
    "nx.draw_networkx_nodes(\n",
    "    G, \n",
    "    nodelist=list(range(0,5)), \n",
    "    pos=pos, \n",
    "    node_shape='o',\n",
    "    node_color='g',\n",
    ")\n",
    "\n",
    "nx.draw_networkx_edges(G, pos=pos)\n",
    "ax.set_axis_off()\n",
    "show(fig, 'plot_credit_score_encoding_04')"
   ]
  },
  {
   "cell_type": "code",
   "execution_count": 103,
   "metadata": {},
   "outputs": [
    {
     "data": {
      "text/plain": [
       "<matplotlib.figure.Figure at 0x11ac08668>"
      ]
     },
     "metadata": {},
     "output_type": "display_data"
    },
    {
     "data": {
      "image/png": "[encoded data removed]",
      "text/plain": [
       "<matplotlib.figure.Figure at 0x11b1ad4e0>"
      ]
     },
     "metadata": {},
     "output_type": "display_data"
    }
   ],
   "source": [
    "fig,ax=plt.subplots(figsize=(20,10))\n",
    "\n",
    "G = nx.DiGraph()\n",
    "for node in range(0,10):\n",
    "    G.add_edge(node, node+1)\n",
    "# pos=nx.random_layout(G) \n",
    "# neato, dot, twopi, circo, fdp, nop, wc, acyclic, gvpr, gvcolor, ccomps, sccmap, tred, sfdp.\n",
    "pos=graphviz_layout(G, prog='circo')\n",
    "nx.draw_networkx_nodes(\n",
    "    G, \n",
    "    nodelist=list(range(0,11)), \n",
    "    pos=pos, \n",
    "    node_shape='o',\n",
    "    node_color='g',\n",
    ")\n",
    "\n",
    "nx.draw_networkx_edges(G, pos=pos)\n",
    "ax.set_axis_off()\n",
    "show(fig, 'plot_credit_score_encoding_05')"
   ]
  },
  {
   "cell_type": "code",
   "execution_count": 104,
   "metadata": {},
   "outputs": [
    {
     "data": {
      "text/plain": [
       "<matplotlib.figure.Figure at 0x11b1f6a20>"
      ]
     },
     "metadata": {},
     "output_type": "display_data"
    },
    {
     "data": {
      "image/png": "[encoded data removed]",
      "text/plain": [
       "<matplotlib.figure.Figure at 0x11ad90f98>"
      ]
     },
     "metadata": {},
     "output_type": "display_data"
    }
   ],
   "source": [
    "fig,ax=plt.subplots(figsize=(20,10))\n",
    "\n",
    "G = nx.DiGraph()\n",
    "for node in range(0,10):\n",
    "    G.add_edge(node, node+1)\n",
    "# G.add_edge(5,4)\n",
    "# G.add_edge(12,5)\n",
    "pos=nx.circular_layout(G) \n",
    "# neato, dot, twopi, circo, fdp, nop, wc, acyclic, gvpr, gvcolor, ccomps, sccmap, tred, sfdp.\n",
    "# pos=graphviz_layout(G, prog='neato')\n",
    "\n",
    "G.add_edge(4,6)\n",
    "\n",
    "nx.draw_networkx_nodes(\n",
    "    G, \n",
    "    nodelist=list(range(0,11)), \n",
    "    pos=pos, \n",
    "    node_shape='o',\n",
    "    node_color='g',\n",
    ")\n",
    "\n",
    "nx.draw_networkx_edges(G, pos=pos)\n",
    "ax.set_axis_off()\n",
    "show(fig, 'plot_credit_score_encoding_06')"
   ]
  },
  {
   "cell_type": "code",
   "execution_count": 80,
   "metadata": {},
   "outputs": [
    {
     "data": {
      "text/plain": [
       "{0: (27.0, 18.0),\n",
       " 1: (153.0, 18.0),\n",
       " 2: (279.0, 18.0),\n",
       " 3: (405.0, 18.0),\n",
       " 4: (531.0, 18.0),\n",
       " 5: (657.0, 18.0),\n",
       " 6: (783.0, 18.0),\n",
       " 7: (909.0, 18.0),\n",
       " 8: (1035.0, 18.0),\n",
       " 9: (1161.0, 18.0),\n",
       " 10: (1287.0, 18.0)}"
      ]
     },
     "execution_count": 80,
     "metadata": {},
     "output_type": "execute_result"
    }
   ],
   "source": [
    "pos"
   ]
  }
 ],
 "metadata": {
  "kernelspec": {
   "display_name": "Python 3",
   "language": "python",
   "name": "python3"
  },
  "language_info": {
   "codemirror_mode": {
    "name": "ipython",
    "version": 3
   },
   "file_extension": ".py",
   "mimetype": "text/x-python",
   "name": "python",
   "nbconvert_exporter": "python",
   "pygments_lexer": "ipython3",
   "version": "3.6.2"
  }
 },
 "nbformat": 4,
 "nbformat_minor": 2
}
