{
 "cells": [
  {
   "cell_type": "code",
   "execution_count": 1,
   "metadata": {
    "collapsed": true
   },
   "outputs": [],
   "source": [
    "import svgwrite\n",
    "import cairosvg\n",
    "import pandas as pd\n",
    "import networkx as nx\n",
    "import matplotlib.pyplot as plt\n",
    "import networkx as nx\n",
    "import pylab as plt\n",
    "from networkx.drawing.nx_agraph import graphviz_layout\n",
    "\n",
    "_p = print\n",
    "\n",
    "def show(fig, filename=None, folder='images'):\n",
    "   plt.show()\n",
    "   if(filename):\n",
    "       fig.savefig(os.path.join(folder, filename))\n",
    "   plt.clf() "
   ]
  },
  {
   "cell_type": "markdown",
   "metadata": {},
   "source": [
    "# Topics of Block Chain"
   ]
  },
  {
   "cell_type": "markdown",
   "metadata": {},
   "source": [
    "# Plot 1"
   ]
  },
  {
   "cell_type": "code",
   "execution_count": null,
   "metadata": {
    "collapsed": true
   },
   "outputs": [],
   "source": [
    "plot_1_nodes_df=pd.read_csv('plot_1_nodes.csv')\n",
    "plot_1_nodes_df.loc[:,'group']=None\n",
    "plot_1_nodes_df.loc[0,'group']=1\n",
    "plot_1_nodes_df.loc[1:5,'group']=2\n",
    "plot_1_nodes_df.loc[5:,'group']=3"
   ]
  },
  {
   "cell_type": "code",
   "execution_count": null,
   "metadata": {},
   "outputs": [],
   "source": [
    "for index,row in plot_1_nodes_df.iterrows():\n",
    "    print('\\t{{\"id\": \"{0}\", \"group\": {1}}},'.format(row.x, row.group))"
   ]
  },
  {
   "cell_type": "code",
   "execution_count": null,
   "metadata": {},
   "outputs": [],
   "source": [
    "plot_1_edges_df=pd.read_csv('plot_1_edges.csv')"
   ]
  },
  {
   "cell_type": "code",
   "execution_count": null,
   "metadata": {},
   "outputs": [],
   "source": [
    "for index,row in plot_1_edges_df.iterrows():\n",
    "    print('\\t{{\"source\": \"{0}\", \"target\": \"{1}\", \"value\": 1}},'.format(row['from'], row['to']))"
   ]
  },
  {
   "cell_type": "code",
   "execution_count": null,
   "metadata": {
    "collapsed": true
   },
   "outputs": [],
   "source": [
    "num_of_people=1000\n",
    "num_of_institutions=4\n",
    "plot_2_nodes_df=pd.DataFrame([], index=range(num_of_people+num_of_institutions), columns=['size'])\n",
    "plot_2_nodes_df.loc[:num_of_people, 'size']=1\n",
    "plot_2_nodes_df.loc[num_of_people:, 'size']=2"
   ]
  },
  {
   "cell_type": "code",
   "execution_count": null,
   "metadata": {
    "collapsed": true
   },
   "outputs": [],
   "source": [
    "with open('plot_2.json', 'w') as file:\n",
    "    file.write('{\\n')\n",
    "    file.write('\"nodes\": [\\n')\n",
    "    for index,row in plot_2_nodes_df.iterrows():\n",
    "        file.write('\\t{{\"id\": \"{0}\", \"size\": {1}}},\\n'.format(index, row.size))\n",
    "    file.write('],\\n')\n",
    "    file.write('\"links\": [\\n')\n",
    "    for people_node in range(num_of_people):\n",
    "        for institution_node in range(num_of_institutions):\n",
    "            file.write('\\t{{\"source\": \"{0}\", \"target\": \"{1}\", \"value\": 1}},\\n'.format(people_node, institution_node))\n",
    "    file.write(']\\n')\n",
    "    file.write('}\\n')\n",
    "file.close()"
   ]
  },
  {
   "cell_type": "code",
   "execution_count": 66,
   "metadata": {},
   "outputs": [
    {
     "data": {
      "image/png": "[encoded data removed]",
      "text/plain": [
       "<matplotlib.figure.Figure at 0x11e57a908>"
      ]
     },
     "metadata": {},
     "output_type": "display_data"
    }
   ],
   "source": [
    "\n",
    "\n",
    "G = nx.DiGraph()\n",
    "G.add_node(0)\n",
    "for node in range(1,5):\n",
    "    G.add_edge(node, 0)\n",
    "# pos=nx.spring_layout(G) \n",
    "pos=graphviz_layout(G, prog='dot')\n",
    "nx.draw_networkx_nodes(\n",
    "    G, \n",
    "    nodelist=list(range(1,5)), \n",
    "    pos=pos, \n",
    "    node_shape='s',\n",
    "    node_color='g',\n",
    ")\n",
    "nx.draw_networkx_nodes(\n",
    "    G, \n",
    "    nodelist=[0], \n",
    "    pos=pos,\n",
    "    node_shape='s',\n",
    "    node_color='b',\n",
    ")\n",
    "nx.draw_networkx_edges(G, pos=pos)\n",
    "plt.axis('off')\n",
    "plt.show()"
   ]
  },
  {
   "cell_type": "code",
   "execution_count": 59,
   "metadata": {},
   "outputs": [],
   "source": [
    "nx.draw_networkx_nodes?"
   ]
  },
  {
   "cell_type": "code",
   "execution_count": 9,
   "metadata": {
    "collapsed": true
   },
   "outputs": [],
   "source": [
    "nx.balanced_tree?"
   ]
  }
 ],
 "metadata": {
  "kernelspec": {
   "display_name": "Python 3",
   "language": "python",
   "name": "python3"
  },
  "language_info": {
   "codemirror_mode": {
    "name": "ipython",
    "version": 3
   },
   "file_extension": ".py",
   "mimetype": "text/x-python",
   "name": "python",
   "nbconvert_exporter": "python",
   "pygments_lexer": "ipython3",
   "version": "3.6.2"
  }
 },
 "nbformat": 4,
 "nbformat_minor": 2
}
