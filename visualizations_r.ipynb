{
 "cells": [
  {
   "cell_type": "code",
   "execution_count": 1,
   "metadata": {},
   "outputs": [
    {
     "name": "stderr",
     "output_type": "stream",
     "text": [
      "\n",
      "Attaching package: ‘igraph’\n",
      "\n",
      "The following objects are masked from ‘package:stats’:\n",
      "\n",
      "    decompose, spectrum\n",
      "\n",
      "The following object is masked from ‘package:base’:\n",
      "\n",
      "    union\n",
      "\n"
     ]
    }
   ],
   "source": [
    "library(\"igraph\") \n",
    "library(\"ggplot2\")\n",
    "# install.packages(\"visNetwork\")\n",
    "# install.packages(\"t01hreejs\")\n",
    "# install.packages(\"networkD3\")\n",
    "# install.packages(\"ndtv\")"
   ]
  },
  {
   "cell_type": "code",
   "execution_count": 4,
   "metadata": {
    "collapsed": true
   },
   "outputs": [],
   "source": [
    "\n",
    "width<-8\n",
    "height<-8"
   ]
  },
  {
   "cell_type": "markdown",
   "metadata": {},
   "source": [
    "# Plot 1"
   ]
  },
  {
   "cell_type": "code",
   "execution_count": null,
   "metadata": {},
   "outputs": [],
   "source": [
    "from = c(\n",
    "    rep('person', length.out=4), \n",
    "    rep('family', length.out=5),\n",
    "    rep('citizen', length.out=5),\n",
    "    rep('physical_society', length.out=5),\n",
    "    rep('cyber_society', length.out=5)\n",
    ")\n",
    "to = c(\n",
    "    'family', \n",
    "    'citizen', \n",
    "    'physical_society', \n",
    "    'cyber_society',\n",
    "    'parent',\n",
    "    'spouse',\n",
    "    'offspring',\n",
    "    'sibling',\n",
    "    '..',\n",
    "    'tax_payer',\n",
    "    'passport_holder',\n",
    "    'vehicle_driver',\n",
    "    'soldier_or_civilian',\n",
    "    '...',\n",
    "    'team_member',\n",
    "    'partner_or_employee',\n",
    "    'job_skills',\n",
    "    'bank_accounts',\n",
    "    '....',\n",
    "    'email_addresses',\n",
    "    'social_networks',\n",
    "    'online_bank_accounts',\n",
    "    'ride_sharing',\n",
    "    '.....'\n",
    ")\n",
    "links=data.frame(from, to)\n",
    "\n",
    "nodes=unique(c(from, to))\n",
    "\n",
    "net <- graph_from_data_frame(d=links, vertices=nodes, directed=T) \n",
    "\n",
    "V(net)$color<-c(rep('orange',length.out=1), c(rep('gold', length.out=4), c(rep('grey', length.out=length(V(net))-5))))\n",
    "V(net)$size<-c(rep(16,length.out=1), c(rep(8, length.out=4), c(rep(4, length.out=length(V(net))-5))))\n",
    "\n",
    "\n",
    "plot.counter<-1\n",
    "file.name<-paste(\"plot_\",plot.counter,\".png\",sep=\"\")\n",
    "png(filename=file.name,\n",
    "    units=\"in\", \n",
    "    width=width, \n",
    "    height=height, \n",
    "    pointsize=12, \n",
    "    res=72*10)\n",
    "\n",
    "plot(net, layout=layout_with_fr, edge.arrow.size=0.0, vertex.label.dist=1, vertex.label.family='Helvetica', vertex.label.cex=0.5, title='plot_1')\n",
    "dev.off()"
   ]
  },
  {
   "cell_type": "code",
   "execution_count": null,
   "metadata": {
    "collapsed": true
   },
   "outputs": [],
   "source": [
    "write.csv(V(net)$name, \"plot_1_nodes.csv\")\n",
    "write.csv(links, \"plot_1_edges.csv\")"
   ]
  },
  {
   "cell_type": "code",
   "execution_count": null,
   "metadata": {},
   "outputs": [],
   "source": [
    "from = c(\n",
    "    rep('person', length.out=4), \n",
    "    rep('family', length.out=4),\n",
    "    rep('citizen', length.out=4),\n",
    "    rep('physical_society', length.out=4),\n",
    "    rep('cyber_society', length.out=4)\n",
    ")\n",
    "to = c(\n",
    "    'family', \n",
    "    'citizen', \n",
    "    'physical_society', \n",
    "    'cyber_society',\n",
    "    'parent',\n",
    "    'spouse',\n",
    "    'offspring',\n",
    "    'sibling',\n",
    "    'IRS',\n",
    "    'DoS',\n",
    "    'DMV',\n",
    "    'Army',\n",
    "    'MCCM',\n",
    "    'ADP',\n",
    "    'Indeed',\n",
    "    'BAML',\n",
    "    'GOOGL',\n",
    "    'FB',\n",
    "    'TDBank',\n",
    "    'UBER'\n",
    ")\n",
    "links=data.frame(from, to)\n",
    "\n",
    "nodes=unique(c(from, to))\n",
    "\n",
    "net <- graph_from_data_frame(d=links, vertices=nodes, directed=T) \n",
    "\n",
    "V(net)$color<-c(rep('orange',length.out=1), c(rep('gold', length.out=4), c(rep('grey', length.out=length(V(net))-5))))\n",
    "V(net)$size<-c(rep(16,length.out=1), c(rep(8, length.out=4), c(rep(4, length.out=length(V(net))-5))))\n",
    "V(net)$label.cex<-c(rep(0.5,length.out=1), c(rep(0.5, length.out=4), c(rep(0.75, length.out=length(V(net))-5))))\n",
    "\n",
    "plot.counter<-2\n",
    "file.name<-paste(\"plot_\",plot.counter,\".png\",sep=\"\")\n",
    "png(filename=file.name,\n",
    "    units=\"in\", \n",
    "    width=8, \n",
    "    height=8, \n",
    "    pointsize=12, \n",
    "    res=72*10)\n",
    "plot(net, layout=layout_with_fr, edge.arrow.size=0.0, vertex.label.dist=1.0, vertex.label.family='Helvetica')\n",
    "dev.off()"
   ]
  },
  {
   "cell_type": "code",
   "execution_count": null,
   "metadata": {
    "collapsed": true
   },
   "outputs": [],
   "source": [
    "V(net)$color<-c(rep('gold',length.out=1), c(rep('grey', length.out=4), c(rep('orange', length.out=length(V(net))-5))))\n",
    "V(net)$size<-c(rep(4,length.out=1), c(rep(8, length.out=4), c(rep(16, length.out=length(V(net))-5))))\n",
    "V(net)$label.cex<-c(rep(0.5,length.out=1), c(rep(0.5, length.out=4), c(rep(0.75, length.out=length(V(net))-5))))\n",
    "\n",
    "plot.counter<-plot.counter+1\n",
    "file.name<-paste(\"plot_\",plot.counter,\".png\",sep=\"\")\n",
    "png(filename=file.name,\n",
    "    units=\"in\", \n",
    "    width=8, \n",
    "    height=8, \n",
    "    pointsize=12, \n",
    "    res=72*10)\n",
    "plot(net, layout=layout_with_fr, edge.arrow.size=0.0, vertex.label.dist=1.5, vertex.label.family='Helvetica')\n",
    "dev.off()"
   ]
  },
  {
   "cell_type": "code",
   "execution_count": null,
   "metadata": {
    "collapsed": true
   },
   "outputs": [],
   "source": [
    "from = c(\n",
    "    'person'\n",
    ")\n",
    "to = c(\n",
    "    'spouse'\n",
    ")\n",
    "links=data.frame(from, to)\n",
    "\n",
    "nodes=unique(c(from, to))\n",
    "\n",
    "net <- graph_from_data_frame(d=links, vertices=nodes, directed=T) \n",
    "\n",
    "V(net)$color<-c('gold', 'gold')\n",
    "E(net)$width<-20\n",
    "\n",
    "plot.counter<-plot.counter+1\n",
    "file.name<-paste(\"plot_\",plot.counter,\".png\",sep=\"\")\n",
    "png(filename=file.name,\n",
    "    units=\"in\", \n",
    "    width=8, \n",
    "    height=8, \n",
    "    pointsize=12, \n",
    "    res=72*10)\n",
    "plot(net, layout=layout_on_grid, edge.arrow.size=0.0, vertex.label.dist=2.0, vertex.label.family='Helvetica', vertex.label.cex=0.5)\n",
    "dev.off()"
   ]
  },
  {
   "cell_type": "code",
   "execution_count": null,
   "metadata": {
    "collapsed": true
   },
   "outputs": [],
   "source": [
    "from = c(\n",
    "    rep('IRS', length.out=100)\n",
    ")\n",
    "to = seq(100)\n",
    "links=data.frame(from, to)\n",
    "\n",
    "nodes=unique(c(from, to))\n",
    "\n",
    "net <- graph_from_data_frame(d=links, vertices=nodes, directed=T) \n",
    "\n",
    "V(net)$color<-c(rep('orange',length.out=1),c(rep('grey', length.out=length(V(net))-1)))\n",
    "V(net)$size<-c(rep(4,length.out=1),c(rep(4, length.out=length(V(net))-1)))\n",
    "\n",
    "plot.counter<-plot.counter+1\n",
    "file.name<-paste(\"plot_\",plot.counter,\".png\",sep=\"\")\n",
    "png(filename=file.name,\n",
    "    units=\"in\", \n",
    "    width=8, \n",
    "    height=8, \n",
    "    pointsize=12, \n",
    "    res=72*10)\n",
    "\n",
    "plot(net, layout=layout_with_fr, edge.arrow.size=0.0, vertex.label=NA, vertex.label.family='Helvetica', vertex.label.cex=0.5)\n",
    "dev.off()"
   ]
  },
  {
   "cell_type": "code",
   "execution_count": 8,
   "metadata": {},
   "outputs": [
    {
     "data": {
      "text/html": [
       "<strong>pdf:</strong> 2"
      ],
      "text/latex": [
       "\\textbf{pdf:} 2"
      ],
      "text/markdown": [
       "**pdf:** 2"
      ],
      "text/plain": [
       "pdf \n",
       "  2 "
      ]
     },
     "metadata": {},
     "output_type": "display_data"
    }
   ],
   "source": [
    "persons=300\n",
    "from = c(rep(1000,persons),rep(2000,persons),rep(3000,persons),rep(4000,persons), rep(5000,persons))\n",
    "to = c(rep(seq(persons),5))\n",
    "links=data.frame(from, to)\n",
    "\n",
    "nodes=unique(c(from, to))\n",
    "\n",
    "net <- graph_from_data_frame(d=links, vertices=nodes, directed=T) \n",
    "\n",
    "V(net)$color<-c(rep('orange',length.out=5),c(rep('grey', length.out=length(V(net))-5)))\n",
    "V(net)$size<-c(rep(16,length.out=5),c(rep(4, length.out=length(V(net))-5)))\n",
    "\n",
    "plot.counter<-7\n",
    "file.name<-paste(\"plot_\",plot.counter,\".png\",sep=\"\")\n",
    "png(filename=file.name, \n",
    "    units=\"in\", \n",
    "    width=8, \n",
    "    height=8, \n",
    "    pointsize=12, \n",
    "    res=72*10)\n",
    "\n",
    "plot(net, layout=layout_on_grid, edge.arrow.size=0.0, vertex.label=NA, vertex.label.family='Helvetica', vertex.label.cex=0.5)\n",
    "dev.off()"
   ]
  },
  {
   "cell_type": "code",
   "execution_count": null,
   "metadata": {
    "collapsed": true
   },
   "outputs": [],
   "source": [
    "layouts <- grep(\"^layout_\", ls(\"package:igraph\"), value=TRUE)[-1] \n",
    "# Remove layouts that do not apply to our graph.\n",
    "layouts <- layouts[!grepl(\"bipartite|merge|norm|sugiyama|tree\", layouts)]\n",
    "\n",
    "par(mfrow=c(3,3), mar=c(1,1,1,1))\n",
    "for (layout in layouts) {\n",
    "  print(layout)\n",
    "  l <- do.call(layout, list(net)) \n",
    "  plot(net, edge.arrow.mode=0, layout=l, main=layout) }"
   ]
  }
 ],
 "metadata": {
  "kernelspec": {
   "display_name": "R",
   "language": "R",
   "name": "ir"
  },
  "language_info": {
   "codemirror_mode": "r",
   "file_extension": ".r",
   "mimetype": "text/x-r-source",
   "name": "R",
   "pygments_lexer": "r",
   "version": "3.4.1"
  }
 },
 "nbformat": 4,
 "nbformat_minor": 2
}
