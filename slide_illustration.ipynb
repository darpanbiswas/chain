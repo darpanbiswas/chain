{
 "cells": [
  {
   "cell_type": "code",
   "execution_count": 2,
   "metadata": {},
   "outputs": [],
   "source": [
    "import svgwrite\n",
    "import cairosvg"
   ]
  },
  {
   "cell_type": "markdown",
   "metadata": {},
   "source": [
    "# Topics of Block Chain"
   ]
  },
  {
   "cell_type": "code",
   "execution_count": 5,
   "metadata": {
    "collapsed": true
   },
   "outputs": [],
   "source": [
    "_topics=[\n",
    "    'Philosophical: impact on society', \n",
    "    'Scientific: algorithms, computer science, math)', \n",
    "    'Commerce: changes to industry', \n",
    "    'Capital: risk / reward of allocation strategies',\n",
    "    'Mechanical: code, servers, data centers',\n",
    "]\n",
    "\n",
    "_w=300\n",
    "_h=50\n",
    "_s=10\n",
    "\n"
   ]
  },
  {
   "cell_type": "code",
   "execution_count": 9,
   "metadata": {},
   "outputs": [],
   "source": [
    "svg_document = svgwrite.Drawing(filename = \"test-svgwrite.svg\",\n",
    "                                size = (\"800px\", \"600px\"))\n",
    "\n",
    "for _index, _topic in enumerate(_topics): \n",
    "    svg_document.add(\n",
    "        svg_document.rect(\n",
    "                        insert = (\n",
    "                            20,\n",
    "                            _s*(_index+1)+_h*_index,\n",
    "                        ),\n",
    "                        size = (\n",
    "                            '{:d}px'.format(_w), \n",
    "                            '{:d}px'.format(_h), \n",
    "                        ),\n",
    "                        stroke_width = '1',\n",
    "                        stroke = 'blue',\n",
    "                        fill = 'rgb(255,255,255)',\n",
    "        ),\n",
    "    )\n",
    "    \n",
    "    svg_document.add(\n",
    "        svg_document.text(\n",
    "            _topic,\n",
    "            insert = (\n",
    "                30,\n",
    "                _s*(_index+1)+_h*_index+28,\n",
    "            ),\n",
    "            style = 'font-size:10px; font-family:monospace'\n",
    "        )\n",
    "    )\n",
    "\n",
    "\n",
    "svg_document.save()"
   ]
  },
  {
   "cell_type": "code",
   "execution_count": 16,
   "metadata": {},
   "outputs": [],
   "source": [
    "with open('test.png', 'wb') as png_file:\n",
    "    png_file.write(cairosvg.svg2png(url='test-svgwrite.svg'))"
   ]
  }
 ],
 "metadata": {
  "kernelspec": {
   "display_name": "Python 3",
   "language": "python",
   "name": "python3"
  },
  "language_info": {
   "codemirror_mode": {
    "name": "ipython",
    "version": 3
   },
   "file_extension": ".py",
   "mimetype": "text/x-python",
   "name": "python",
   "nbconvert_exporter": "python",
   "pygments_lexer": "ipython3",
   "version": "3.6.2"
  }
 },
 "nbformat": 4,
 "nbformat_minor": 2
}
